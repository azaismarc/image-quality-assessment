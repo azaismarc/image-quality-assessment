{
 "cells": [
  {
   "cell_type": "code",
   "execution_count": 11,
   "metadata": {},
   "outputs": [],
   "source": [
    "import pandas as pd\n",
    "import os\n",
    "import requests\n",
    "from urllib.parse import urlparse\n",
    "from tqdm import tqdm"
   ]
  },
  {
   "cell_type": "code",
   "execution_count": 12,
   "metadata": {},
   "outputs": [],
   "source": [
    "df = pd.read_csv('final_tripadvisor.csv')"
   ]
  },
  {
   "cell_type": "code",
   "execution_count": 13,
   "metadata": {},
   "outputs": [
    {
     "data": {
      "text/plain": [
       "8654"
      ]
     },
     "execution_count": 13,
     "metadata": {},
     "output_type": "execute_result"
    }
   ],
   "source": [
    "unique_urls = df[\"url\"].drop_duplicates().dropna()\n",
    "len(unique_urls)"
   ]
  },
  {
   "cell_type": "code",
   "execution_count": 15,
   "metadata": {},
   "outputs": [
    {
     "name": "stderr",
     "output_type": "stream",
     "text": [
      "  0%|          | 4/8654 [00:00<19:06,  7.54it/s]"
     ]
    },
    {
     "name": "stdout",
     "output_type": "stream",
     "text": [
      "Failed to download https://media-cdn.tripadvisor.com/media/photo-w/1a/73/6d/02/desserts.jpg - Status Code: 404\n",
      "Failed to download https://media-cdn.tripadvisor.com/media/photo-w/1a/73/6c/ff/diner.jpg - Status Code: 404\n"
     ]
    },
    {
     "name": "stderr",
     "output_type": "stream",
     "text": [
      "  5%|▌         | 460/8654 [00:40<12:57, 10.53it/s]"
     ]
    },
    {
     "name": "stdout",
     "output_type": "stream",
     "text": [
      "Failed to download https://media-cdn.tripadvisor.com/media/photo-o/07/74/dc/d6/campanile-metz-sud-jouy.jpg - Status Code: 404\n",
      "Failed to download https://media-cdn.tripadvisor.com/media/photo-o/07/74/dc/db/campanile-metz-sud-jouy.jpg - Status Code: 404\n"
     ]
    },
    {
     "name": "stderr",
     "output_type": "stream",
     "text": [
      "  6%|▌         | 529/8654 [00:48<13:36,  9.95it/s]"
     ]
    },
    {
     "name": "stdout",
     "output_type": "stream",
     "text": [
      "Failed to download https://media-cdn.tripadvisor.com/media/photo-s/02/9c/d3/30/filename-img-0040-jpg.jpg - Status Code: 404\n",
      "Failed to download https://media-cdn.tripadvisor.com/media/photo-s/02/9c/d3/43/filename-img-0041-jpg.jpg - Status Code: 404\n"
     ]
    },
    {
     "name": "stderr",
     "output_type": "stream",
     "text": [
      "  6%|▌         | 531/8654 [00:48<14:58,  9.04it/s]"
     ]
    },
    {
     "name": "stdout",
     "output_type": "stream",
     "text": [
      "Failed to download https://media-cdn.tripadvisor.com/media/photo-s/02/9c/d3/4e/filename-img-0042-jpg.jpg - Status Code: 404\n"
     ]
    },
    {
     "name": "stderr",
     "output_type": "stream",
     "text": [
      " 13%|█▎        | 1137/8654 [02:36<51:47,  2.42it/s]  "
     ]
    },
    {
     "name": "stdout",
     "output_type": "stream",
     "text": [
      "Failed to download https://media-cdn.tripadvisor.com/media/photo-o/0e/fa/33/84/photo0jpg.jpg - Status Code: 404\n",
      "Failed to download https://media-cdn.tripadvisor.com/media/photo-o/06/9a/f1/83/chambre-120.jpg - Status Code: 404\n"
     ]
    },
    {
     "name": "stderr",
     "output_type": "stream",
     "text": [
      " 13%|█▎        | 1138/8654 [02:36<42:04,  2.98it/s]"
     ]
    },
    {
     "name": "stdout",
     "output_type": "stream",
     "text": [
      "Failed to download https://media-cdn.tripadvisor.com/media/photo-o/06/9a/f1/bb/dans-la-chambre-120-quelques.jpg - Status Code: 404\n"
     ]
    },
    {
     "name": "stderr",
     "output_type": "stream",
     "text": [
      " 13%|█▎        | 1140/8654 [02:37<37:51,  3.31it/s]"
     ]
    },
    {
     "name": "stdout",
     "output_type": "stream",
     "text": [
      "Failed to download https://media-cdn.tripadvisor.com/media/photo-o/19/11/03/6a/img-20190831-100357-largejpg.jpg - Status Code: 404\n",
      "Failed to download https://media-cdn.tripadvisor.com/media/photo-o/19/11/03/68/img-20190831-100415-largejpg.jpg - Status Code: 404\n"
     ]
    },
    {
     "name": "stderr",
     "output_type": "stream",
     "text": [
      " 19%|█▊        | 1617/8654 [05:40<33:40,  3.48it/s]  "
     ]
    },
    {
     "name": "stdout",
     "output_type": "stream",
     "text": [
      "Failed to download https://media-cdn.tripadvisor.com/media/photo-o/16/5a/a6/07/ta-img-20190204-203644.jpg - Status Code: 404\n"
     ]
    },
    {
     "name": "stderr",
     "output_type": "stream",
     "text": [
      " 19%|█▊        | 1620/8654 [05:41<33:44,  3.48it/s]"
     ]
    },
    {
     "name": "stdout",
     "output_type": "stream",
     "text": [
      "Failed to download https://media-cdn.tripadvisor.com/media/photo-o/12/16/93/8b/photo1jpg.jpg - Status Code: 404\n"
     ]
    },
    {
     "name": "stderr",
     "output_type": "stream",
     "text": [
      " 20%|██        | 1741/8654 [06:23<31:35,  3.65it/s]"
     ]
    },
    {
     "name": "stdout",
     "output_type": "stream",
     "text": [
      "Failed to download https://media-cdn.tripadvisor.com/media/photo-o/17/55/74/6b/le-mois-speciale-oriental.jpg - Status Code: 404\n",
      "Failed to download https://media-cdn.tripadvisor.com/media/photo-o/17/55/74/70/le-mois-speciale-oriental.jpg - Status Code: 404\n"
     ]
    },
    {
     "name": "stderr",
     "output_type": "stream",
     "text": [
      " 20%|██        | 1743/8654 [06:23<23:39,  4.87it/s]"
     ]
    },
    {
     "name": "stdout",
     "output_type": "stream",
     "text": [
      "Failed to download https://media-cdn.tripadvisor.com/media/photo-o/17/55/74/5e/le-mois-speciale-oriental.jpg - Status Code: 404\n",
      "Failed to download https://media-cdn.tripadvisor.com/media/photo-o/17/55/74/60/le-mois-speciale-oriental.jpg - Status Code: 404\n"
     ]
    },
    {
     "name": "stderr",
     "output_type": "stream",
     "text": [
      " 20%|██        | 1745/8654 [06:23<20:16,  5.68it/s]"
     ]
    },
    {
     "name": "stdout",
     "output_type": "stream",
     "text": [
      "Failed to download https://media-cdn.tripadvisor.com/media/photo-o/08/70/39/01/photo0jpg.jpg - Status Code: 404\n",
      "Failed to download https://media-cdn.tripadvisor.com/media/photo-o/12/73/c6/75/photo4jpg.jpg - Status Code: 404\n"
     ]
    },
    {
     "name": "stderr",
     "output_type": "stream",
     "text": [
      " 20%|██        | 1747/8654 [06:24<18:35,  6.19it/s]"
     ]
    },
    {
     "name": "stdout",
     "output_type": "stream",
     "text": [
      "Failed to download https://media-cdn.tripadvisor.com/media/photo-o/12/73/c6/71/photo1jpg.jpg - Status Code: 404\n",
      "Failed to download https://media-cdn.tripadvisor.com/media/photo-o/12/73/c6/73/photo2jpg.jpg - Status Code: 404\n"
     ]
    },
    {
     "name": "stderr",
     "output_type": "stream",
     "text": [
      " 20%|██        | 1749/8654 [06:24<18:58,  6.06it/s]"
     ]
    },
    {
     "name": "stdout",
     "output_type": "stream",
     "text": [
      "Failed to download https://media-cdn.tripadvisor.com/media/photo-o/12/73/c6/70/photo0jpg.jpg - Status Code: 404\n",
      "Failed to download https://media-cdn.tripadvisor.com/media/photo-o/12/73/c6/74/photo3jpg.jpg - Status Code: 404\n"
     ]
    },
    {
     "name": "stderr",
     "output_type": "stream",
     "text": [
      " 20%|██        | 1750/8654 [06:24<26:59,  4.26it/s]"
     ]
    },
    {
     "name": "stdout",
     "output_type": "stream",
     "text": [
      "Failed to download https://media-cdn.tripadvisor.com/media/photo-o/12/73/c6/76/photo5jpg.jpg - Status Code: 404\n"
     ]
    },
    {
     "name": "stderr",
     "output_type": "stream",
     "text": [
      " 22%|██▏       | 1881/8654 [07:13<29:06,  3.88it/s]  "
     ]
    },
    {
     "name": "stdout",
     "output_type": "stream",
     "text": [
      "Failed to download https://media-cdn.tripadvisor.com/media/photo-m/1280/17/38/1c/e8/campanile-meaux-sud-nanteuil.jpg - Status Code: 404\n",
      "Failed to download https://media-cdn.tripadvisor.com/media/photo-m/1280/17/38/1c/ec/campanile-meaux-sud-nanteuil.jpg - Status Code: 404\n"
     ]
    },
    {
     "name": "stderr",
     "output_type": "stream",
     "text": [
      " 22%|██▏       | 1883/8654 [07:13<22:59,  4.91it/s]"
     ]
    },
    {
     "name": "stdout",
     "output_type": "stream",
     "text": [
      "Failed to download https://media-cdn.tripadvisor.com/media/photo-s/01/0b/c4/f5/disney-parks.jpg - Status Code: 404\n",
      "Failed to download https://media-cdn.tripadvisor.com/media/photo-s/01/0b/c4/f0/the-rooms-building.jpg - Status Code: 404\n"
     ]
    },
    {
     "name": "stderr",
     "output_type": "stream",
     "text": [
      " 22%|██▏       | 1885/8654 [07:13<20:34,  5.48it/s]"
     ]
    },
    {
     "name": "stdout",
     "output_type": "stream",
     "text": [
      "Failed to download https://media-cdn.tripadvisor.com/media/photo-s/01/0b/c4/f2/restaurant-open-section.jpg - Status Code: 404\n",
      "Failed to download https://media-cdn.tripadvisor.com/media/photo-s/01/0b/c4/f1/the-rooms-building.jpg - Status Code: 404\n"
     ]
    },
    {
     "name": "stderr",
     "output_type": "stream",
     "text": [
      " 22%|██▏       | 1887/8654 [07:14<18:29,  6.10it/s]"
     ]
    },
    {
     "name": "stdout",
     "output_type": "stream",
     "text": [
      "Failed to download https://media-cdn.tripadvisor.com/media/photo-s/01/0b/c4/f3/the-rooms-building.jpg - Status Code: 404\n",
      "Failed to download https://media-cdn.tripadvisor.com/media/photo-m/1280/17/38/1c/e7/campanile-meaux-sud-nanteuil.jpg - Status Code: 404\n"
     ]
    },
    {
     "name": "stderr",
     "output_type": "stream",
     "text": [
      " 22%|██▏       | 1889/8654 [07:14<18:49,  5.99it/s]"
     ]
    },
    {
     "name": "stdout",
     "output_type": "stream",
     "text": [
      "Failed to download https://media-cdn.tripadvisor.com/media/photo-w/17/38/1c/eb/campanile-meaux-sud-nanteuil.jpg - Status Code: 404\n",
      "Failed to download https://media-cdn.tripadvisor.com/media/photo-w/17/38/1c/e1/campanile-meaux-sud-nanteuil.jpg - Status Code: 404\n"
     ]
    },
    {
     "name": "stderr",
     "output_type": "stream",
     "text": [
      " 22%|██▏       | 1891/8654 [07:14<17:52,  6.30it/s]"
     ]
    },
    {
     "name": "stdout",
     "output_type": "stream",
     "text": [
      "Failed to download https://media-cdn.tripadvisor.com/media/photo-w/17/38/1c/e9/campanile-meaux-sud-nanteuil.jpg - Status Code: 404\n",
      "Failed to download https://media-cdn.tripadvisor.com/media/photo-s/01/0b/c4/f4/disney-parks.jpg - Status Code: 404\n"
     ]
    },
    {
     "name": "stderr",
     "output_type": "stream",
     "text": [
      " 22%|██▏       | 1893/8654 [07:15<18:43,  6.02it/s]"
     ]
    },
    {
     "name": "stdout",
     "output_type": "stream",
     "text": [
      "Failed to download https://media-cdn.tripadvisor.com/media/photo-o/11/3c/c4/cd/ta-img-20171110-185556.jpg - Status Code: 404\n",
      "Failed to download https://media-cdn.tripadvisor.com/media/photo-m/1280/15/e4/12/64/photo4jpg.jpg - Status Code: 404\n"
     ]
    },
    {
     "name": "stderr",
     "output_type": "stream",
     "text": [
      " 22%|██▏       | 1895/8654 [07:15<17:47,  6.33it/s]"
     ]
    },
    {
     "name": "stdout",
     "output_type": "stream",
     "text": [
      "Failed to download https://media-cdn.tripadvisor.com/media/photo-m/1280/15/e4/12/60/photo0jpg.jpg - Status Code: 404\n",
      "Failed to download https://media-cdn.tripadvisor.com/media/photo-m/1280/13/b5/36/76/20180602-001518-largejpg.jpg - Status Code: 404\n"
     ]
    },
    {
     "name": "stderr",
     "output_type": "stream",
     "text": [
      " 22%|██▏       | 1897/8654 [07:15<17:08,  6.57it/s]"
     ]
    },
    {
     "name": "stdout",
     "output_type": "stream",
     "text": [
      "Failed to download https://media-cdn.tripadvisor.com/media/photo-m/1280/13/b5/36/78/20180602-001414-largejpg.jpg - Status Code: 404\n",
      "Failed to download https://media-cdn.tripadvisor.com/media/photo-m/1280/13/b5/36/79/20180602-001621-largejpg.jpg - Status Code: 404\n"
     ]
    },
    {
     "name": "stderr",
     "output_type": "stream",
     "text": [
      " 22%|██▏       | 1898/8654 [07:16<30:48,  3.66it/s]"
     ]
    },
    {
     "name": "stdout",
     "output_type": "stream",
     "text": [
      "Failed to download https://media-cdn.tripadvisor.com/media/photo-o/12/1d/f4/86/photo0jpg.jpg - Status Code: 404\n"
     ]
    },
    {
     "name": "stderr",
     "output_type": "stream",
     "text": [
      " 22%|██▏       | 1900/8654 [07:16<28:19,  3.97it/s]"
     ]
    },
    {
     "name": "stdout",
     "output_type": "stream",
     "text": [
      "Failed to download https://media-cdn.tripadvisor.com/media/photo-o/11/6f/9c/88/photo0jpg.jpg - Status Code: 404\n",
      "Failed to download https://media-cdn.tripadvisor.com/media/photo-m/1280/13/b5/36/75/20180605-174010-largejpg.jpg - Status Code: 404\n"
     ]
    },
    {
     "name": "stderr",
     "output_type": "stream",
     "text": [
      " 22%|██▏       | 1902/8654 [07:17<23:03,  4.88it/s]"
     ]
    },
    {
     "name": "stdout",
     "output_type": "stream",
     "text": [
      "Failed to download https://media-cdn.tripadvisor.com/media/photo-m/1280/15/e4/12/62/photo2jpg.jpg - Status Code: 404\n",
      "Failed to download https://media-cdn.tripadvisor.com/media/photo-m/1280/15/e4/12/67/photo7jpg.jpg - Status Code: 404\n"
     ]
    },
    {
     "name": "stderr",
     "output_type": "stream",
     "text": [
      " 22%|██▏       | 1904/8654 [07:17<20:24,  5.51it/s]"
     ]
    },
    {
     "name": "stdout",
     "output_type": "stream",
     "text": [
      "Failed to download https://media-cdn.tripadvisor.com/media/photo-m/1280/15/e4/12/61/photo1jpg.jpg - Status Code: 404\n",
      "Failed to download https://media-cdn.tripadvisor.com/media/photo-m/1280/15/e4/12/65/photo5jpg.jpg - Status Code: 404\n"
     ]
    },
    {
     "name": "stderr",
     "output_type": "stream",
     "text": [
      " 22%|██▏       | 1906/8654 [07:17<18:11,  6.18it/s]"
     ]
    },
    {
     "name": "stdout",
     "output_type": "stream",
     "text": [
      "Failed to download https://media-cdn.tripadvisor.com/media/photo-m/1280/15/e4/12/66/photo6jpg.jpg - Status Code: 404\n",
      "Failed to download https://media-cdn.tripadvisor.com/media/photo-m/1280/15/e4/12/63/photo3jpg.jpg - Status Code: 404\n"
     ]
    },
    {
     "name": "stderr",
     "output_type": "stream",
     "text": [
      " 22%|██▏       | 1908/8654 [07:18<18:36,  6.04it/s]"
     ]
    },
    {
     "name": "stdout",
     "output_type": "stream",
     "text": [
      "Failed to download https://media-cdn.tripadvisor.com/media/photo-m/1280/13/b5/36/77/20180602-001417-largejpg.jpg - Status Code: 404\n",
      "Failed to download https://media-cdn.tripadvisor.com/media/photo-m/1280/13/b5/36/7a/20180602-001502-largejpg.jpg - Status Code: 404\n"
     ]
    },
    {
     "name": "stderr",
     "output_type": "stream",
     "text": [
      " 22%|██▏       | 1910/8654 [07:18<18:11,  6.18it/s]"
     ]
    },
    {
     "name": "stdout",
     "output_type": "stream",
     "text": [
      "Failed to download https://media-cdn.tripadvisor.com/media/photo-m/1280/13/b5/36/7b/20180602-001625-largejpg.jpg - Status Code: 404\n",
      "Failed to download https://media-cdn.tripadvisor.com/media/photo-o/11/6f/9c/89/photo1jpg.jpg - Status Code: 404\n"
     ]
    },
    {
     "name": "stderr",
     "output_type": "stream",
     "text": [
      " 35%|███▌      | 3045/8654 [14:27<21:42,  4.31it/s]  "
     ]
    },
    {
     "name": "stdout",
     "output_type": "stream",
     "text": [
      "Failed to download https://media-cdn.tripadvisor.com/media/photo-m/1280/15/2e/0e/04/photo0jpg.jpg - Status Code: 404\n",
      "Failed to download https://media-cdn.tripadvisor.com/media/photo-m/1280/15/2e/0e/06/photo2jpg.jpg - Status Code: 404\n"
     ]
    },
    {
     "name": "stderr",
     "output_type": "stream",
     "text": [
      " 35%|███▌      | 3047/8654 [14:27<18:50,  4.96it/s]"
     ]
    },
    {
     "name": "stdout",
     "output_type": "stream",
     "text": [
      "Failed to download https://media-cdn.tripadvisor.com/media/photo-o/16/c1/ae/0c/20190301-093016-largejpg.jpg - Status Code: 404\n",
      "Failed to download https://media-cdn.tripadvisor.com/media/photo-o/16/c1/ae/0a/20190228-182426-largejpg.jpg - Status Code: 404\n"
     ]
    },
    {
     "name": "stderr",
     "output_type": "stream",
     "text": [
      " 35%|███▌      | 3049/8654 [14:28<21:34,  4.33it/s]"
     ]
    },
    {
     "name": "stdout",
     "output_type": "stream",
     "text": [
      "Failed to download https://media-cdn.tripadvisor.com/media/photo-m/1280/15/2e/0e/07/photo3jpg.jpg - Status Code: 404\n",
      "Failed to download https://media-cdn.tripadvisor.com/media/photo-m/1280/15/2e/0e/05/photo1jpg.jpg - Status Code: 404\n"
     ]
    },
    {
     "name": "stderr",
     "output_type": "stream",
     "text": [
      " 35%|███▌      | 3051/8654 [14:28<18:14,  5.12it/s]"
     ]
    },
    {
     "name": "stdout",
     "output_type": "stream",
     "text": [
      "Failed to download https://media-cdn.tripadvisor.com/media/photo-o/0d/34/4f/a3/20161005-130806-largejpg.jpg - Status Code: 404\n",
      "Failed to download https://media-cdn.tripadvisor.com/media/photo-o/16/c1/ae/0b/20190228-182441-largejpg.jpg - Status Code: 404\n"
     ]
    },
    {
     "name": "stderr",
     "output_type": "stream",
     "text": [
      " 35%|███▌      | 3053/8654 [14:29<16:07,  5.79it/s]"
     ]
    },
    {
     "name": "stdout",
     "output_type": "stream",
     "text": [
      "Failed to download https://media-cdn.tripadvisor.com/media/photo-o/0d/34/4f/a4/20161005-132922-largejpg_rotated_90.jpg - Status Code: 404\n",
      "Failed to download https://media-cdn.tripadvisor.com/media/photo-w/14/a2/59/bf/campanile-metz-sud-jouy.jpg - Status Code: 404\n"
     ]
    },
    {
     "name": "stderr",
     "output_type": "stream",
     "text": [
      " 35%|███▌      | 3055/8654 [14:29<17:37,  5.30it/s]"
     ]
    },
    {
     "name": "stdout",
     "output_type": "stream",
     "text": [
      "Failed to download https://media-cdn.tripadvisor.com/media/photo-w/14/a2/5a/08/campanile-metz-sud-jouy.jpg - Status Code: 404\n",
      "Failed to download https://media-cdn.tripadvisor.com/media/photo-w/14/a2/5a/0d/campanile-metz-sud-jouy.jpg - Status Code: 404\n"
     ]
    },
    {
     "name": "stderr",
     "output_type": "stream",
     "text": [
      " 35%|███▌      | 3057/8654 [14:29<17:16,  5.40it/s]"
     ]
    },
    {
     "name": "stdout",
     "output_type": "stream",
     "text": [
      "Failed to download https://media-cdn.tripadvisor.com/media/photo-o/12/4d/a7/c8/photo0jpg.jpg - Status Code: 404\n",
      "Failed to download https://media-cdn.tripadvisor.com/media/photo-o/12/4d/a7/c9/photo1jpg.jpg - Status Code: 404\n"
     ]
    },
    {
     "name": "stderr",
     "output_type": "stream",
     "text": [
      " 35%|███▌      | 3059/8654 [14:30<15:20,  6.08it/s]"
     ]
    },
    {
     "name": "stdout",
     "output_type": "stream",
     "text": [
      "Failed to download https://media-cdn.tripadvisor.com/media/photo-o/12/4d/a7/ca/photo2jpg.jpg - Status Code: 404\n",
      "Failed to download https://media-cdn.tripadvisor.com/media/photo-w/14/a2/5a/2c/campanile-metz-sud-jouy.jpg - Status Code: 404\n"
     ]
    },
    {
     "name": "stderr",
     "output_type": "stream",
     "text": [
      " 35%|███▌      | 3060/8654 [14:30<21:46,  4.28it/s]"
     ]
    },
    {
     "name": "stdout",
     "output_type": "stream",
     "text": [
      "Failed to download https://media-cdn.tripadvisor.com/media/photo-w/14/a2/59/d2/campanile-metz-sud-jouy.jpg - Status Code: 404\n"
     ]
    },
    {
     "name": "stderr",
     "output_type": "stream",
     "text": [
      " 35%|███▌      | 3062/8654 [14:31<29:57,  3.11it/s]"
     ]
    },
    {
     "name": "stdout",
     "output_type": "stream",
     "text": [
      "Failed to download https://media-cdn.tripadvisor.com/media/photo-o/0e/63/f9/13/photo6jpg.jpg - Status Code: 404\n",
      "Failed to download https://media-cdn.tripadvisor.com/media/photo-o/08/86/d4/d8/sans-commentaire-70-la.jpg - Status Code: 404\n"
     ]
    },
    {
     "name": "stderr",
     "output_type": "stream",
     "text": [
      " 35%|███▌      | 3064/8654 [14:31<25:02,  3.72it/s]"
     ]
    },
    {
     "name": "stdout",
     "output_type": "stream",
     "text": [
      "Failed to download https://media-cdn.tripadvisor.com/media/photo-o/10/44/55/3d/photo0jpg.jpg - Status Code: 404\n",
      "Failed to download https://media-cdn.tripadvisor.com/media/photo-o/0e/63/f9/14/photo7jpg.jpg - Status Code: 404\n"
     ]
    },
    {
     "name": "stderr",
     "output_type": "stream",
     "text": [
      " 35%|███▌      | 3066/8654 [14:32<19:33,  4.76it/s]"
     ]
    },
    {
     "name": "stdout",
     "output_type": "stream",
     "text": [
      "Failed to download https://media-cdn.tripadvisor.com/media/photo-o/0e/63/f9/15/photo8jpg.jpg - Status Code: 404\n",
      "Failed to download https://media-cdn.tripadvisor.com/media/photo-o/0e/63/f9/12/photo5jpg.jpg - Status Code: 404\n"
     ]
    },
    {
     "name": "stderr",
     "output_type": "stream",
     "text": [
      " 35%|███▌      | 3068/8654 [14:32<16:30,  5.64it/s]"
     ]
    },
    {
     "name": "stdout",
     "output_type": "stream",
     "text": [
      "Failed to download https://media-cdn.tripadvisor.com/media/photo-o/10/44/55/3f/photo1jpg.jpg - Status Code: 404\n",
      "Failed to download https://media-cdn.tripadvisor.com/media/photo-o/0e/63/f9/10/photo3jpg.jpg - Status Code: 404\n"
     ]
    },
    {
     "name": "stderr",
     "output_type": "stream",
     "text": [
      " 35%|███▌      | 3069/8654 [14:32<15:35,  5.97it/s]"
     ]
    },
    {
     "name": "stdout",
     "output_type": "stream",
     "text": [
      "Failed to download https://media-cdn.tripadvisor.com/media/photo-o/0e/63/f9/0d/photo0jpg.jpg - Status Code: 404\n"
     ]
    },
    {
     "name": "stderr",
     "output_type": "stream",
     "text": [
      " 35%|███▌      | 3071/8654 [14:33<20:24,  4.56it/s]"
     ]
    },
    {
     "name": "stdout",
     "output_type": "stream",
     "text": [
      "Failed to download https://media-cdn.tripadvisor.com/media/photo-o/0e/63/f9/11/photo4jpg.jpg - Status Code: 404\n",
      "Failed to download https://media-cdn.tripadvisor.com/media/photo-o/0e/63/f9/0e/photo1jpg.jpg - Status Code: 404\n"
     ]
    },
    {
     "name": "stderr",
     "output_type": "stream",
     "text": [
      " 35%|███▌      | 3072/8654 [14:33<18:16,  5.09it/s]"
     ]
    },
    {
     "name": "stdout",
     "output_type": "stream",
     "text": [
      "Failed to download https://media-cdn.tripadvisor.com/media/photo-o/0e/63/f9/0f/photo2jpg.jpg - Status Code: 404\n"
     ]
    },
    {
     "name": "stderr",
     "output_type": "stream",
     "text": [
      " 42%|████▏     | 3660/8654 [18:15<26:47,  3.11it/s]  "
     ]
    },
    {
     "name": "stdout",
     "output_type": "stream",
     "text": [
      "Failed to download https://media-cdn.tripadvisor.com/media/photo-m/1280/15/62/bc/a6/photo2jpg.jpg - Status Code: 404\n",
      "Failed to download https://media-cdn.tripadvisor.com/media/photo-m/1280/15/62/bc/a4/photo0jpg.jpg - Status Code: 404\n"
     ]
    },
    {
     "name": "stderr",
     "output_type": "stream",
     "text": [
      " 42%|████▏     | 3662/8654 [18:16<19:48,  4.20it/s]"
     ]
    },
    {
     "name": "stdout",
     "output_type": "stream",
     "text": [
      "Failed to download https://media-cdn.tripadvisor.com/media/photo-m/1280/15/62/bc/a5/photo1jpg.jpg - Status Code: 404\n",
      "Failed to download https://media-cdn.tripadvisor.com/media/photo-o/0b/75/7c/03/ta-img-20160531-183030.jpg - Status Code: 404\n"
     ]
    },
    {
     "name": "stderr",
     "output_type": "stream",
     "text": [
      " 42%|████▏     | 3664/8654 [18:16<16:00,  5.20it/s]"
     ]
    },
    {
     "name": "stdout",
     "output_type": "stream",
     "text": [
      "Failed to download https://media-cdn.tripadvisor.com/media/photo-o/0b/75/7c/02/ta-img-20160531-182941.jpg - Status Code: 404\n",
      "Failed to download https://media-cdn.tripadvisor.com/media/photo-o/0b/75/7c/06/ta-img-20160531-183219.jpg - Status Code: 404\n"
     ]
    },
    {
     "name": "stderr",
     "output_type": "stream",
     "text": [
      " 42%|████▏     | 3666/8654 [18:16<14:39,  5.67it/s]"
     ]
    },
    {
     "name": "stdout",
     "output_type": "stream",
     "text": [
      "Failed to download https://media-cdn.tripadvisor.com/media/photo-o/0b/75/7c/04/ta-img-20160531-183054.jpg - Status Code: 404\n",
      "Failed to download https://media-cdn.tripadvisor.com/media/photo-o/0b/75/7c/07/ta-img-20160531-183234.jpg - Status Code: 404\n"
     ]
    },
    {
     "name": "stderr",
     "output_type": "stream",
     "text": [
      " 42%|████▏     | 3668/8654 [18:17<13:25,  6.19it/s]"
     ]
    },
    {
     "name": "stdout",
     "output_type": "stream",
     "text": [
      "Failed to download https://media-cdn.tripadvisor.com/media/photo-o/0b/75/7c/05/ta-img-20160531-183118.jpg - Status Code: 404\n",
      "Failed to download https://media-cdn.tripadvisor.com/media/photo-w/19/2d/64/3d/dirty-extractor-fan.jpg - Status Code: 404\n"
     ]
    },
    {
     "name": "stderr",
     "output_type": "stream",
     "text": [
      " 42%|████▏     | 3670/8654 [18:17<13:13,  6.28it/s]"
     ]
    },
    {
     "name": "stdout",
     "output_type": "stream",
     "text": [
      "Failed to download https://media-cdn.tripadvisor.com/media/photo-w/19/2d/64/2a/chipped-paintwork.jpg - Status Code: 404\n",
      "Failed to download https://media-cdn.tripadvisor.com/media/photo-w/19/2d/64/02/leaking-shower-screen.jpg - Status Code: 404\n"
     ]
    },
    {
     "name": "stderr",
     "output_type": "stream",
     "text": [
      " 42%|████▏     | 3671/8654 [18:17<13:35,  6.11it/s]"
     ]
    },
    {
     "name": "stdout",
     "output_type": "stream",
     "text": [
      "Failed to download https://media-cdn.tripadvisor.com/media/photo-w/19/2d/63/e5/dirty-leaking-shower.jpg - Status Code: 404\n"
     ]
    },
    {
     "name": "stderr",
     "output_type": "stream",
     "text": [
      " 48%|████▊     | 4149/8654 [21:19<24:23,  3.08it/s]  "
     ]
    },
    {
     "name": "stdout",
     "output_type": "stream",
     "text": [
      "Failed to download https://media-cdn.tripadvisor.com/media/photo-o/0f/3c/f7/eb/photo0jpg.jpg - Status Code: 404\n",
      "Failed to download https://media-cdn.tripadvisor.com/media/photo-m/1280/15/e0/e2/c6/20181226-112521-largejpg.jpg - Status Code: 404\n"
     ]
    },
    {
     "name": "stderr",
     "output_type": "stream",
     "text": [
      " 48%|████▊     | 4150/8654 [21:19<20:59,  3.58it/s]"
     ]
    },
    {
     "name": "stdout",
     "output_type": "stream",
     "text": [
      "Failed to download https://media-cdn.tripadvisor.com/media/photo-m/1280/15/e0/e2/c0/20181226-112506-largejpg.jpg - Status Code: 404\n"
     ]
    },
    {
     "name": "stderr",
     "output_type": "stream",
     "text": [
      " 48%|████▊     | 4152/8654 [21:20<17:36,  4.26it/s]"
     ]
    },
    {
     "name": "stdout",
     "output_type": "stream",
     "text": [
      "Failed to download https://media-cdn.tripadvisor.com/media/photo-o/16/e7/21/a6/photo0jpg.jpg - Status Code: 404\n",
      "Failed to download https://media-cdn.tripadvisor.com/media/photo-m/1280/15/e0/e2/c5/20181226-112516-largejpg.jpg - Status Code: 404\n"
     ]
    },
    {
     "name": "stderr",
     "output_type": "stream",
     "text": [
      " 48%|████▊     | 4154/8654 [21:20<17:54,  4.19it/s]"
     ]
    },
    {
     "name": "stdout",
     "output_type": "stream",
     "text": [
      "Failed to download https://media-cdn.tripadvisor.com/media/photo-o/08/ac/64/ae/campanile-toulouse-sud.jpg - Status Code: 404\n",
      "Failed to download https://media-cdn.tripadvisor.com/media/photo-o/12/69/ea/be/photo0jpg.jpg - Status Code: 404\n"
     ]
    },
    {
     "name": "stderr",
     "output_type": "stream",
     "text": [
      " 48%|████▊     | 4156/8654 [21:21<17:18,  4.33it/s]"
     ]
    },
    {
     "name": "stdout",
     "output_type": "stream",
     "text": [
      "Failed to download https://media-cdn.tripadvisor.com/media/photo-o/10/1d/8a/bd/photo1jpg.jpg - Status Code: 404\n",
      "Failed to download https://media-cdn.tripadvisor.com/media/photo-o/10/1d/8a/bc/photo0jpg.jpg - Status Code: 404\n"
     ]
    },
    {
     "name": "stderr",
     "output_type": "stream",
     "text": [
      " 48%|████▊     | 4158/8654 [21:21<14:06,  5.31it/s]"
     ]
    },
    {
     "name": "stdout",
     "output_type": "stream",
     "text": [
      "Failed to download https://media-cdn.tripadvisor.com/media/photo-o/0f/0b/43/84/dsc-1541-largejpg.jpg - Status Code: 404\n",
      "Failed to download https://media-cdn.tripadvisor.com/media/photo-m/1280/15/e0/e2/c2/20181225-125231-largejpg.jpg - Status Code: 404\n"
     ]
    },
    {
     "name": "stderr",
     "output_type": "stream",
     "text": [
      " 48%|████▊     | 4160/8654 [21:21<12:47,  5.85it/s]"
     ]
    },
    {
     "name": "stdout",
     "output_type": "stream",
     "text": [
      "Failed to download https://media-cdn.tripadvisor.com/media/photo-m/1280/15/e0/e2/c4/20181225-130054-largejpg.jpg - Status Code: 404\n",
      "Failed to download https://media-cdn.tripadvisor.com/media/photo-m/1280/15/03/70/bc/photo0jpg.jpg - Status Code: 404\n"
     ]
    },
    {
     "name": "stderr",
     "output_type": "stream",
     "text": [
      " 48%|████▊     | 4162/8654 [21:22<12:28,  6.00it/s]"
     ]
    },
    {
     "name": "stdout",
     "output_type": "stream",
     "text": [
      "Failed to download https://media-cdn.tripadvisor.com/media/photo-m/1280/15/e0/e2/c3/20181226-112512-largejpg.jpg - Status Code: 404\n",
      "Failed to download https://media-cdn.tripadvisor.com/media/photo-m/1280/15/e0/e2/c7/20181225-125223-largejpg.jpg - Status Code: 404\n"
     ]
    },
    {
     "name": "stderr",
     "output_type": "stream",
     "text": [
      " 48%|████▊     | 4163/8654 [21:22<14:35,  5.13it/s]"
     ]
    },
    {
     "name": "stdout",
     "output_type": "stream",
     "text": [
      "Failed to download https://media-cdn.tripadvisor.com/media/photo-m/1280/15/e0/e2/c8/20181225-125337-largejpg.jpg - Status Code: 404\n"
     ]
    },
    {
     "name": "stderr",
     "output_type": "stream",
     "text": [
      " 48%|████▊     | 4165/8654 [21:22<13:43,  5.45it/s]"
     ]
    },
    {
     "name": "stdout",
     "output_type": "stream",
     "text": [
      "Failed to download https://media-cdn.tripadvisor.com/media/photo-m/1280/15/e0/e2/c1/20181225-125455-largejpg.jpg - Status Code: 404\n",
      "Failed to download https://media-cdn.tripadvisor.com/media/photo-m/1280/15/e0/e2/be/20181225-130121-largejpg.jpg - Status Code: 404\n"
     ]
    },
    {
     "name": "stderr",
     "output_type": "stream",
     "text": [
      " 48%|████▊     | 4167/8654 [21:23<12:47,  5.85it/s]"
     ]
    },
    {
     "name": "stdout",
     "output_type": "stream",
     "text": [
      "Failed to download https://media-cdn.tripadvisor.com/media/photo-m/1280/17/4e/92/f8/photo0jpg.jpg - Status Code: 404\n",
      "Failed to download https://media-cdn.tripadvisor.com/media/photo-o/07/05/df/c8/hotel-campaniletoulouse.jpg - Status Code: 404\n"
     ]
    },
    {
     "name": "stderr",
     "output_type": "stream",
     "text": [
      " 48%|████▊     | 4169/8654 [21:23<12:04,  6.19it/s]"
     ]
    },
    {
     "name": "stdout",
     "output_type": "stream",
     "text": [
      "Failed to download https://media-cdn.tripadvisor.com/media/photo-o/0c/68/0c/08/campanile-toulouse-sud.jpg - Status Code: 404\n",
      "Failed to download https://media-cdn.tripadvisor.com/media/photo-o/0f/0b/43/8a/dsc-1543-largejpg_rotated_90.jpg - Status Code: 404\n"
     ]
    },
    {
     "name": "stderr",
     "output_type": "stream",
     "text": [
      " 48%|████▊     | 4171/8654 [21:23<11:48,  6.33it/s]"
     ]
    },
    {
     "name": "stdout",
     "output_type": "stream",
     "text": [
      "Failed to download https://media-cdn.tripadvisor.com/media/photo-o/05/d6/bc/92/5-4-3-2-1-decollage.jpg - Status Code: 404\n",
      "Failed to download https://media-cdn.tripadvisor.com/media/photo-o/0f/3c/f7/ec/photo1jpg.jpg - Status Code: 404\n"
     ]
    },
    {
     "name": "stderr",
     "output_type": "stream",
     "text": [
      " 48%|████▊     | 4173/8654 [21:24<13:00,  5.74it/s]"
     ]
    },
    {
     "name": "stdout",
     "output_type": "stream",
     "text": [
      "Failed to download https://media-cdn.tripadvisor.com/media/photo-o/10/75/be/af/dsc-0145-largejpg.jpg - Status Code: 404\n",
      "Failed to download https://media-cdn.tripadvisor.com/media/photo-o/07/d4/d3/d3/campanile-toulouse-sud.jpg - Status Code: 404\n"
     ]
    },
    {
     "name": "stderr",
     "output_type": "stream",
     "text": [
      " 48%|████▊     | 4175/8654 [21:24<12:22,  6.03it/s]"
     ]
    },
    {
     "name": "stdout",
     "output_type": "stream",
     "text": [
      "Failed to download https://media-cdn.tripadvisor.com/media/photo-o/0f/0b/43/88/dsc-1542-largejpg.jpg - Status Code: 404\n",
      "Failed to download https://media-cdn.tripadvisor.com/media/photo-o/0f/3c/f7/ed/photo2jpg.jpg - Status Code: 404\n"
     ]
    },
    {
     "name": "stderr",
     "output_type": "stream",
     "text": [
      " 48%|████▊     | 4177/8654 [21:24<12:15,  6.08it/s]"
     ]
    },
    {
     "name": "stdout",
     "output_type": "stream",
     "text": [
      "Failed to download https://media-cdn.tripadvisor.com/media/photo-m/1280/14/e2/59/e8/photo0jpg.jpg - Status Code: 404\n",
      "Failed to download https://media-cdn.tripadvisor.com/media/photo-s/02/b8/0c/20/hotel-campaniletoulouse.jpg - Status Code: 404\n"
     ]
    },
    {
     "name": "stderr",
     "output_type": "stream",
     "text": [
      " 48%|████▊     | 4179/8654 [21:25<12:17,  6.07it/s]"
     ]
    },
    {
     "name": "stdout",
     "output_type": "stream",
     "text": [
      "Failed to download https://media-cdn.tripadvisor.com/media/photo-m/1280/14/e2/59/e9/photo1jpg.jpg - Status Code: 404\n",
      "Failed to download https://media-cdn.tripadvisor.com/media/photo-s/02/b8/0c/6b/hotel-campaniletoulouse.jpg - Status Code: 404\n"
     ]
    },
    {
     "name": "stderr",
     "output_type": "stream",
     "text": [
      " 48%|████▊     | 4181/8654 [21:25<12:22,  6.03it/s]"
     ]
    },
    {
     "name": "stdout",
     "output_type": "stream",
     "text": [
      "Failed to download https://media-cdn.tripadvisor.com/media/photo-s/02/b8/0c/4b/hotel-campaniletoulouse.jpg - Status Code: 404\n",
      "Failed to download https://media-cdn.tripadvisor.com/media/photo-o/09/bd/e2/94/photo1jpg.jpg - Status Code: 404\n"
     ]
    },
    {
     "name": "stderr",
     "output_type": "stream",
     "text": [
      " 48%|████▊     | 4182/8654 [21:25<12:10,  6.12it/s]"
     ]
    },
    {
     "name": "stdout",
     "output_type": "stream",
     "text": [
      "Failed to download https://media-cdn.tripadvisor.com/media/photo-o/09/bd/e2/93/photo0jpg.jpg - Status Code: 404\n"
     ]
    },
    {
     "name": "stderr",
     "output_type": "stream",
     "text": [
      " 67%|██████▋   | 5810/8654 [32:02<10:49,  4.38it/s]  "
     ]
    },
    {
     "name": "stdout",
     "output_type": "stream",
     "text": [
      "Failed to download https://media-cdn.tripadvisor.com/media/photo-o/19/1f/d0/d7/20190827-084838-largejpg.jpg - Status Code: 404\n"
     ]
    },
    {
     "name": "stderr",
     "output_type": "stream",
     "text": [
      " 67%|██████▋   | 5827/8654 [32:08<14:53,  3.16it/s]"
     ]
    },
    {
     "name": "stdout",
     "output_type": "stream",
     "text": [
      "Failed to download https://media-cdn.tripadvisor.com/media/photo-m/1280/16/5a/75/3d/photo1jpg.jpg - Status Code: 404\n"
     ]
    },
    {
     "name": "stderr",
     "output_type": "stream",
     "text": [
      " 68%|██████▊   | 5866/8654 [32:21<13:57,  3.33it/s]"
     ]
    },
    {
     "name": "stdout",
     "output_type": "stream",
     "text": [
      "Failed to download https://media-cdn.tripadvisor.com/media/photo-o/08/6e/4c/41/photo0jpg.jpg - Status Code: 404\n"
     ]
    },
    {
     "name": "stderr",
     "output_type": "stream",
     "text": [
      " 73%|███████▎  | 6313/8654 [35:07<11:00,  3.54it/s]"
     ]
    },
    {
     "name": "stdout",
     "output_type": "stream",
     "text": [
      "Failed to download https://media-cdn.tripadvisor.com/media/photo-o/07/24/86/46/hotel-campaniletoulouse.jpg - Status Code: 404\n",
      "Failed to download https://media-cdn.tripadvisor.com/media/photo-s/02/b8/0c/61/hotel-campaniletoulouse.jpg - Status Code: 404\n"
     ]
    },
    {
     "name": "stderr",
     "output_type": "stream",
     "text": [
      " 73%|███████▎  | 6315/8654 [35:07<09:43,  4.01it/s]"
     ]
    },
    {
     "name": "stdout",
     "output_type": "stream",
     "text": [
      "Failed to download https://media-cdn.tripadvisor.com/media/photo-s/02/b8/0c/54/hotel-campaniletoulouse.jpg - Status Code: 404\n",
      "Failed to download https://media-cdn.tripadvisor.com/media/photo-w/1a/73/6c/f0/espace-salle-d-eau.jpg - Status Code: 404\n"
     ]
    },
    {
     "name": "stderr",
     "output_type": "stream",
     "text": [
      " 77%|███████▋  | 6635/8654 [36:56<07:55,  4.24it/s]"
     ]
    },
    {
     "name": "stdout",
     "output_type": "stream",
     "text": [
      "Failed to download https://media-cdn.tripadvisor.com/media/photo-o/19/11/03/67/img-20190831-100743-largejpg.jpg - Status Code: 404\n"
     ]
    },
    {
     "name": "stderr",
     "output_type": "stream",
     "text": [
      " 82%|████████▏ | 7121/8654 [39:45<06:31,  3.91it/s]"
     ]
    },
    {
     "name": "stdout",
     "output_type": "stream",
     "text": [
      "Failed to download https://media-cdn.tripadvisor.com/media/photo-o/11/54/56/b7/campanile-bordeaux-sud.jpg - Status Code: 404\n"
     ]
    },
    {
     "name": "stderr",
     "output_type": "stream",
     "text": [
      " 89%|████████▉ | 7703/8654 [43:02<05:43,  2.77it/s]"
     ]
    },
    {
     "name": "stdout",
     "output_type": "stream",
     "text": [
      "Failed to download https://media-cdn.tripadvisor.com/media/photo-o/08/86/d6/21/campanile-metz-sud-jouy.jpg - Status Code: 404\n"
     ]
    },
    {
     "name": "stderr",
     "output_type": "stream",
     "text": [
      " 89%|████████▉ | 7704/8654 [43:02<05:11,  3.05it/s]"
     ]
    },
    {
     "name": "stdout",
     "output_type": "stream",
     "text": [
      "Failed to download https://media-cdn.tripadvisor.com/media/photo-o/08/86/d4/d7/super-la-vieille-salle.jpg - Status Code: 404\n"
     ]
    },
    {
     "name": "stderr",
     "output_type": "stream",
     "text": [
      " 92%|█████████▏| 7931/8654 [44:28<02:47,  4.30it/s]"
     ]
    },
    {
     "name": "stdout",
     "output_type": "stream",
     "text": [
      "Failed to download https://media-cdn.tripadvisor.com/media/photo-w/19/2d/64/12/very-low-toilet.jpg - Status Code: 404\n",
      "Failed to download https://media-cdn.tripadvisor.com/media/photo-w/19/2d/63/d4/dirty-bathroom.jpg - Status Code: 404\n"
     ]
    },
    {
     "name": "stderr",
     "output_type": "stream",
     "text": [
      " 92%|█████████▏| 7932/8654 [44:28<02:34,  4.69it/s]"
     ]
    },
    {
     "name": "stdout",
     "output_type": "stream",
     "text": [
      "Failed to download https://media-cdn.tripadvisor.com/media/photo-w/19/2d/63/ce/dirty-bathroom.jpg - Status Code: 404\n"
     ]
    },
    {
     "name": "stderr",
     "output_type": "stream",
     "text": [
      " 93%|█████████▎| 8033/8654 [45:05<02:58,  3.49it/s]"
     ]
    },
    {
     "name": "stdout",
     "output_type": "stream",
     "text": [
      "Failed to download https://media-cdn.tripadvisor.com/media/photo-o/0d/87/6c/cc/fusee-ariane.jpg - Status Code: 404\n"
     ]
    },
    {
     "name": "stderr",
     "output_type": "stream",
     "text": [
      " 93%|█████████▎| 8035/8654 [45:06<03:07,  3.31it/s]"
     ]
    },
    {
     "name": "stdout",
     "output_type": "stream",
     "text": [
      "Failed to download https://media-cdn.tripadvisor.com/media/photo-o/0d/87/6c/e3/parc-de-la-cite-de-l.jpg - Status Code: 404\n",
      "Failed to download https://media-cdn.tripadvisor.com/media/photo-o/0f/ba/54/e4/chambre-332-et-232.jpg - Status Code: 404\n"
     ]
    },
    {
     "name": "stderr",
     "output_type": "stream",
     "text": [
      " 93%|█████████▎| 8037/8654 [45:06<02:18,  4.44it/s]"
     ]
    },
    {
     "name": "stdout",
     "output_type": "stream",
     "text": [
      "Failed to download https://media-cdn.tripadvisor.com/media/photo-o/09/c5/2e/46/campanile-toulouse-sud.jpg - Status Code: 404\n",
      "Failed to download https://media-cdn.tripadvisor.com/media/photo-s/02/b8/0c/38/hotel-campaniletoulouse.jpg - Status Code: 404\n"
     ]
    },
    {
     "name": "stderr",
     "output_type": "stream",
     "text": [
      " 99%|█████████▉| 8564/8654 [48:26<00:25,  3.54it/s]"
     ]
    },
    {
     "name": "stdout",
     "output_type": "stream",
     "text": [
      "Failed to download https://media-cdn.tripadvisor.com/media/photo-o/0f/ba/54/e5/salle-astralia.jpg - Status Code: 404\n"
     ]
    },
    {
     "name": "stderr",
     "output_type": "stream",
     "text": [
      "100%|██████████| 8654/8654 [49:11<00:00,  2.93it/s]"
     ]
    },
    {
     "name": "stdout",
     "output_type": "stream",
     "text": [
      "Download complete!\n"
     ]
    },
    {
     "name": "stderr",
     "output_type": "stream",
     "text": [
      "\n"
     ]
    }
   ],
   "source": [
    "# Remove duplicate URLs\n",
    "unique_urls = df[\"url\"].drop_duplicates().dropna()\n",
    "\n",
    "dirname = 'tripadvisor'\n",
    "\n",
    "# Create a folder for images\n",
    "os.makedirs(dirname, exist_ok=True)\n",
    "\n",
    "# Download images\n",
    "for url in tqdm(unique_urls):\n",
    "    try:\n",
    "        response = requests.get(url, timeout=10)\n",
    "        if response.status_code == 200:\n",
    "            # Extract filename from URL\n",
    "            parsed_url = urlparse(url)\n",
    "            filename = os.path.basename(parsed_url.path)\n",
    "            \n",
    "            # Ensure filename is unique\n",
    "            save_path = os.path.join(dirname, filename)\n",
    "            if os.path.exists(save_path):\n",
    "                filename = f\"{parsed_url.netloc}_{filename}\"  # Prefix with domain\n",
    "                save_path = os.path.join(dirname, filename)\n",
    "            \n",
    "            with open(save_path, \"wb\") as f:\n",
    "                f.write(response.content)\n",
    "            \n",
    "        else:\n",
    "            print(f\"Failed to download {url} - Status Code: {response.status_code}\")\n",
    "    except Exception as e:\n",
    "        print(f\"Error downloading {url}: {e}\")\n",
    "\n",
    "print(\"Download complete!\")"
   ]
  },
  {
   "cell_type": "code",
   "execution_count": 8,
   "metadata": {},
   "outputs": [],
   "source": [
    "import os\n",
    "import shutil\n",
    "import json\n",
    "\n",
    "# Load JSON file\n",
    "with open('output.json', 'r') as file:\n",
    "    data = json.load(file)\n",
    "\n",
    "# Sort images by mean_score_prediction in descending order (or ascending as needed)\n",
    "sorted_images = sorted(data, key=lambda x: x['mean_score_prediction'], reverse=True)"
   ]
  },
  {
   "cell_type": "code",
   "execution_count": 10,
   "metadata": {},
   "outputs": [
    {
     "name": "stdout",
     "output_type": "stream",
     "text": [
      "Images have been sorted and saved in the 'sorted_images' directory.\n"
     ]
    }
   ],
   "source": [
    "# Create new directory for sorted images\n",
    "new_dir = 'sorted_images'\n",
    "os.makedirs(new_dir, exist_ok=True)\n",
    "\n",
    "# Path to the directory where the images are stored\n",
    "image_dir = 'tripadvisor'\n",
    "\n",
    "# Process each image\n",
    "for item in sorted_images:\n",
    "    image_id = item['image_id']\n",
    "    score = item['mean_score_prediction']\n",
    "\n",
    "    # Construct the path to the image in the tripadvisor directory\n",
    "    original_image_path = os.path.join(image_dir, f\"{image_id}.jpg\")\n",
    "    \n",
    "    if os.path.exists(original_image_path):\n",
    "        # Create a new filename with the score before the name\n",
    "        new_image_name = f\"{score:.2f}_{image_id}.jpg\"\n",
    "        new_image_path = os.path.join(new_dir, new_image_name)\n",
    "\n",
    "        # Copy the image to the new directory with the new name\n",
    "        shutil.copy(original_image_path, new_image_path)\n",
    "    else:\n",
    "        print(f\"Image {original_image_path} not found.\")\n",
    "\n",
    "print(f\"Images have been sorted and saved in the '{new_dir}' directory.\")"
   ]
  },
  {
   "cell_type": "code",
   "execution_count": null,
   "metadata": {},
   "outputs": [],
   "source": []
  }
 ],
 "metadata": {
  "kernelspec": {
   "display_name": "nlp",
   "language": "python",
   "name": "python3"
  },
  "language_info": {
   "codemirror_mode": {
    "name": "ipython",
    "version": 3
   },
   "file_extension": ".py",
   "mimetype": "text/x-python",
   "name": "python",
   "nbconvert_exporter": "python",
   "pygments_lexer": "ipython3",
   "version": "3.11.10"
  }
 },
 "nbformat": 4,
 "nbformat_minor": 2
}
